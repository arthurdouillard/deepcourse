{
  "nbformat": 4,
  "nbformat_minor": 0,
  "metadata": {
    "colab": {
      "name": "Convolutions - Deepcourse",
      "provenance": [],
      "collapsed_sections": []
    },
    "kernelspec": {
      "name": "python3",
      "display_name": "Python 3"
    },
    "language_info": {
      "name": "python"
    }
  },
  "cells": [
    {
      "cell_type": "markdown",
      "metadata": {
        "id": "1oiL9Z46nv9o"
      },
      "source": [
        "<center><h1>Convolutions</h1></center>\n",
        "\n",
        "<center><h2><a href=\"https://arthurdouillard.com/deepcourse/\">Course link</a></h2></center>\n",
        "\n",
        "To keep your modifications in case you want to come back later to this colab, do *File -> Save a copy in Drive*.\n",
        "\n",
        "If you find a mistake, or know how to improve this notebook, please open an issue [here](https://github.com/arthurdouillard/deepcourse/issues).\n",
        "\n",
        "In this colab, we are going to learn convolutions by practicing different hard coded convolution kernels. In later colabs, we won't handcraft those kernels, but let neural networks find the optimal kernel values.\n",
        "\n",
        "First, let's download a famous mandril image to visualize results."
      ]
    },
    {
      "cell_type": "code",
      "metadata": {
        "id": "y9k12vTpnmtc"
      },
      "source": [
        "!wget https://arthurdouillard.com/deepcourse/img/mandril.jpg"
      ],
      "execution_count": null,
      "outputs": []
    },
    {
      "cell_type": "code",
      "metadata": {
        "id": "mwB7dtlsnti8"
      },
      "source": [
        "from PIL import Image\n",
        "import torch\n",
        "from torch import nn\n",
        "from torch.nn import functional as F\n",
        "import numpy as np\n",
        "import matplotlib.pyplot as plt\n",
        "\n",
        "\n",
        "def torch_to_jpg(tensor):\n",
        "  # Useful function to pass from tensor image to numpy image to Pillow image\n",
        "  if len(tensor.shape) == 3:\n",
        "    tensor = tensor.permute(1, 2, 0)\n",
        "  if tensor.shape[-1] == 1:\n",
        "    tensor = tensor[..., 0]\n",
        "  return Image.fromarray(tensor.numpy().astype(np.uint8))\n",
        "\n",
        "def jpg_to_torch(jpg_image):\n",
        "  img = torch.tensor(np.array(jpg_image)).float()\n",
        "  return img.permute(2, 0, 1)  # In torch the order  is channel / height / width"
      ],
      "execution_count": null,
      "outputs": []
    },
    {
      "cell_type": "code",
      "metadata": {
        "id": "7X-2nU3JpBrU"
      },
      "source": [
        "jpg_img = Image.open(\"mandril.jpg\")\n",
        "img = jpg_to_torch(jpg_img)\n",
        "jpg_img"
      ],
      "execution_count": null,
      "outputs": []
    },
    {
      "cell_type": "markdown",
      "metadata": {
        "id": "D2xiSXu_XMTM"
      },
      "source": [
        "Always in deep learning, when working on images, text, audio, internal representation, etc. look at the shape!"
      ]
    },
    {
      "cell_type": "code",
      "metadata": {
        "id": "oU63GxjspDaQ"
      },
      "source": [
        "img.shape"
      ],
      "execution_count": null,
      "outputs": []
    },
    {
      "cell_type": "markdown",
      "metadata": {
        "id": "6NKbDfldXUxY"
      },
      "source": [
        "A gray image can simply be made by averaging the channels, do it:"
      ]
    },
    {
      "cell_type": "code",
      "metadata": {
        "id": "-wyRlOtRpT10"
      },
      "source": [
        "gray_image = # TODO\n",
        "print(gray_image.shape)\n",
        "torch_to_jpg(gray_image)"
      ],
      "execution_count": null,
      "outputs": []
    },
    {
      "cell_type": "code",
      "metadata": {
        "id": "HJ6tqHCqfn2c"
      },
      "source": [
        "# Execute this cell to see the solution, but try to do it by yourself before!\n",
        "!wget https://raw.githubusercontent.com/arthurdouillard/deepcourse/master/static/code/cnn/gray.py\n",
        "%pycat gray.py"
      ],
      "execution_count": null,
      "outputs": []
    },
    {
      "cell_type": "markdown",
      "metadata": {
        "id": "p7SPSqnvXrxQ"
      },
      "source": [
        "Now, let's try a random convolution kernel. We initialize its value using a \"kaiming normal\" which is the usual initialization in convolutional networks. We'll see later what it is exactly.\n",
        "\n",
        "Remember in CNN, a \"kernel\" is actually several convolutions kernels. There is one $k\\times k$ kernel per input channel and per output channel, thus we have $C_i \\times C_o$ $k \\times k$ kernels.\n",
        "\n",
        "The final size is therefore $C_i \\times C_o \\times k \\times k $.\n",
        "\n",
        "In the following block, we define a $5 \\times 5$ kernel. There are $C_i = 3$ input channels (i.e. RGB) which we will map onto $C_o = 3$ output channels:"
      ]
    },
    {
      "cell_type": "code",
      "metadata": {
        "id": "5ktZLSpeqpm4"
      },
      "source": [
        "w = torch.randn(3, 3, 5, 5)\n",
        "w = torch.nn.init.kaiming_normal_(w)"
      ],
      "execution_count": null,
      "outputs": []
    },
    {
      "cell_type": "code",
      "metadata": {
        "id": "M6W81MkFq3Lo"
      },
      "source": [
        "o = F.conv2d(\n",
        "    # torch wants a \"batch\" of image, so we add a new dimension to have a batch of size 1 \n",
        "    img[None],\n",
        "    w\n",
        ")\n",
        "torch_to_jpg(o[0])"
      ],
      "execution_count": null,
      "outputs": []
    },
    {
      "cell_type": "markdown",
      "metadata": {
        "id": "H1Onqy34ZTQs"
      },
      "source": [
        "Pretty colors right? But not very useful. What about handcrafting a $5 \\times 5$ blurring kernel?"
      ]
    },
    {
      "cell_type": "code",
      "metadata": {
        "id": "PEwF4KfHuCL0"
      },
      "source": [
        "w = # TODO\n",
        "\n",
        "o = F.conv2d(img[None], w)\n",
        "torch_to_jpg(o[0])"
      ],
      "execution_count": null,
      "outputs": []
    },
    {
      "cell_type": "code",
      "metadata": {
        "id": "IHBehFIKgInU"
      },
      "source": [
        "# Execute this cell to see the solution, but try to do it by yourself before!\n",
        "!wget https://raw.githubusercontent.com/arthurdouillard/deepcourse/master/static/code/cnn/blur.py\n",
        "%pycat blur.py"
      ],
      "execution_count": null,
      "outputs": []
    },
    {
      "cell_type": "markdown",
      "metadata": {
        "id": "aXRM9foXZgyU"
      },
      "source": [
        "Visualize the kernel values and interpret it. Remember, we don't want to mix channels! "
      ]
    },
    {
      "cell_type": "code",
      "metadata": {
        "id": "XQ5yyPMXvM9w"
      },
      "source": [
        "w"
      ],
      "execution_count": null,
      "outputs": []
    },
    {
      "cell_type": "markdown",
      "metadata": {
        "id": "56DnKxXCZxBY"
      },
      "source": [
        "Now do a **identity kernel**, that will do... nothing:"
      ]
    },
    {
      "cell_type": "code",
      "metadata": {
        "id": "7R2K7a-yvRQw"
      },
      "source": [
        "w = # TODO\n",
        "\n",
        "o = F.conv2d(img[None], w)\n",
        "torch_to_jpg(o[0])"
      ],
      "execution_count": null,
      "outputs": []
    },
    {
      "cell_type": "code",
      "metadata": {
        "id": "lq64jc4egPQU"
      },
      "source": [
        "# Execute this cell to see the solution, but try to do it by yourself before!\n",
        "!wget https://raw.githubusercontent.com/arthurdouillard/deepcourse/master/static/code/cnn/id.py\n",
        "%pycat id.py"
      ],
      "execution_count": null,
      "outputs": []
    },
    {
      "cell_type": "markdown",
      "metadata": {
        "id": "MXXJSOmWZ3LI"
      },
      "source": [
        "Now try a **edge detection** kernel from https://en.wikipedia.org/wiki/Kernel_(image_processing). This kind of kernel was extremely useful before CNN, and can be found in many algorithms such a SIFT."
      ]
    },
    {
      "cell_type": "code",
      "metadata": {
        "id": "l7dNE7fTvq2Q"
      },
      "source": [
        "w = torch.zeros(1, 3, 3, 3)\n",
        "# TODO\n",
        "\n",
        "o = F.conv2d(img[None].mean(dim=0, keepdims=True), w)\n",
        "o = 255 * (o - o.min()) / (o.max() - o.min())  # Rescale to [0, 255]\n",
        "torch_to_jpg(o[0])"
      ],
      "execution_count": null,
      "outputs": []
    },
    {
      "cell_type": "code",
      "metadata": {
        "id": "xxKrLH_pgX5c"
      },
      "source": [
        "# Execute this cell to see the solution, but try to do it by yourself before!\n",
        "!wget https://raw.githubusercontent.com/arthurdouillard/deepcourse/master/static/code/cnn/edge.py\n",
        "%pycat edge.py"
      ],
      "execution_count": null,
      "outputs": []
    },
    {
      "cell_type": "markdown",
      "metadata": {
        "id": "zzIcbMpEcpa8"
      },
      "source": [
        "Now, let's reproduce an average pooling that will divide the height & width by 2, but with a convolution kernel. First do it with `F.avg_pool2d`, then with a convolution with `F.conv2d`.\n"
      ]
    },
    {
      "cell_type": "code",
      "metadata": {
        "id": "gf7FyUAGbBWA"
      },
      "source": [
        "pooled = F.avg_pool2d(img[None], kernel_size=2)\n",
        "plt.figure(figsize=(13, 8))\n",
        "plt.subplot(1, 2, 1)\n",
        "plt.imshow(torch_to_jpg(pooled[0]))\n",
        "plt.title(f\"w/ avg pooling, {pooled[0].shape}\")\n",
        "\n",
        "w = # TODO\n",
        "o = F.conv2d(img[None].mean(dim=0, keepdims=True), w, stride=2)\n",
        "o = 255 * (o - o.min()) / (o.max() - o.min())  # Rescale to [0, 255]\n",
        "\n",
        "plt.subplot(1, 2, 2)\n",
        "plt.imshow(torch_to_jpg(o[0]))\n",
        "plt.title(f\"w/ convolution, {o[0].shape}\");"
      ],
      "execution_count": null,
      "outputs": []
    },
    {
      "cell_type": "code",
      "metadata": {
        "id": "RN3UXkcCdbsI"
      },
      "source": [
        "# Execute this cell to see the solution, but try to do it by yourself before!\n",
        "!wget https://raw.githubusercontent.com/arthurdouillard/deepcourse/master/static/code/cnn/avg.py\n",
        "%pycat avg.py"
      ],
      "execution_count": null,
      "outputs": []
    }
  ]
}